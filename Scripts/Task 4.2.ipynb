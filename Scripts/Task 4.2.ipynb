{
 "cells": [
  {
   "cell_type": "markdown",
   "id": "0b514084",
   "metadata": {},
   "source": [
    "## Script Contents:\n",
    "\n",
    "1. Import libraries\n",
    "2. Code three different ways of reaching a result of 100\n",
    "3. Code two floating point variables and divide them\n",
    "4. Construct a short word made of separate strings\n",
    "5. Print a word 100 times"
   ]
  },
  {
   "cell_type": "markdown",
   "id": "6a8f5ee3",
   "metadata": {},
   "source": [
    "# Importing Libraries"
   ]
  },
  {
   "cell_type": "code",
   "execution_count": 1,
   "id": "f32af55f",
   "metadata": {},
   "outputs": [],
   "source": [
    "# Importing Libaries\n",
    "import pandas as pd\n",
    "import numpy as np\n",
    "import os"
   ]
  },
  {
   "cell_type": "markdown",
   "id": "01e6d233",
   "metadata": {},
   "source": [
    "# Python Data Types"
   ]
  },
  {
   "cell_type": "code",
   "execution_count": null,
   "id": "c24bdfc8",
   "metadata": {},
   "outputs": [],
   "source": [
    "# Three different ways of reaching a result of 100"
   ]
  },
  {
   "cell_type": "code",
   "execution_count": 2,
   "id": "3b1ba420",
   "metadata": {},
   "outputs": [],
   "source": [
    "a = 98\n",
    "b = 2"
   ]
  },
  {
   "cell_type": "code",
   "execution_count": 3,
   "id": "dc4c5898",
   "metadata": {},
   "outputs": [
    {
     "name": "stdout",
     "output_type": "stream",
     "text": [
      "100\n"
     ]
    }
   ],
   "source": [
    "print(a+b)"
   ]
  },
  {
   "cell_type": "code",
   "execution_count": 4,
   "id": "c0ba1959",
   "metadata": {},
   "outputs": [],
   "source": [
    "c = 50\n",
    "d = 50"
   ]
  },
  {
   "cell_type": "code",
   "execution_count": 5,
   "id": "57268bf3",
   "metadata": {},
   "outputs": [
    {
     "name": "stdout",
     "output_type": "stream",
     "text": [
      "100\n"
     ]
    }
   ],
   "source": [
    "print(c+d)"
   ]
  },
  {
   "cell_type": "code",
   "execution_count": 6,
   "id": "5ec0e1c3",
   "metadata": {},
   "outputs": [],
   "source": [
    "e = 100\n",
    "f = 0"
   ]
  },
  {
   "cell_type": "code",
   "execution_count": 7,
   "id": "e0dd2857",
   "metadata": {},
   "outputs": [
    {
     "name": "stdout",
     "output_type": "stream",
     "text": [
      "100\n"
     ]
    }
   ],
   "source": [
    "print(e-f)"
   ]
  },
  {
   "cell_type": "code",
   "execution_count": null,
   "id": "1eae30ef",
   "metadata": {},
   "outputs": [],
   "source": [
    "# Code 2 floating point variables and divide them by each other"
   ]
  },
  {
   "cell_type": "code",
   "execution_count": 8,
   "id": "14d8dca9",
   "metadata": {},
   "outputs": [],
   "source": [
    "g = 8.978\n",
    "h = 5.912"
   ]
  },
  {
   "cell_type": "code",
   "execution_count": 9,
   "id": "1ac66170",
   "metadata": {},
   "outputs": [
    {
     "name": "stdout",
     "output_type": "stream",
     "text": [
      "1.5186062246278755\n"
     ]
    }
   ],
   "source": [
    "print(g/h)"
   ]
  },
  {
   "cell_type": "code",
   "execution_count": null,
   "id": "5483a9b5",
   "metadata": {},
   "outputs": [],
   "source": [
    "# Construct 2 short sentences made of separate strings"
   ]
  },
  {
   "cell_type": "code",
   "execution_count": 20,
   "id": "7f8303db",
   "metadata": {},
   "outputs": [],
   "source": [
    "I = \"Hello, \"\n",
    "J = \"Joe,\"\n",
    "K = \" how are you doing?\"\n",
    "L = \"I am fine, \"\n",
    "M = \"thank you!\""
   ]
  },
  {
   "cell_type": "code",
   "execution_count": 21,
   "id": "f7df9c39",
   "metadata": {},
   "outputs": [
    {
     "name": "stdout",
     "output_type": "stream",
     "text": [
      "Hello, Joe, how are you doing?\n"
     ]
    }
   ],
   "source": [
    "print(I+J+K)"
   ]
  },
  {
   "cell_type": "code",
   "execution_count": 22,
   "id": "9eb37bf0",
   "metadata": {},
   "outputs": [
    {
     "name": "stdout",
     "output_type": "stream",
     "text": [
      "I am fine, thank you!\n"
     ]
    }
   ],
   "source": [
    "print (L+M)"
   ]
  },
  {
   "cell_type": "code",
   "execution_count": 23,
   "id": "b3f84cef",
   "metadata": {},
   "outputs": [],
   "source": [
    "# Bonus Task"
   ]
  },
  {
   "cell_type": "code",
   "execution_count": 24,
   "id": "82039539",
   "metadata": {},
   "outputs": [],
   "source": [
    "N = \"Jazz\""
   ]
  },
  {
   "cell_type": "code",
   "execution_count": 25,
   "id": "fbad6f92",
   "metadata": {},
   "outputs": [
    {
     "name": "stdout",
     "output_type": "stream",
     "text": [
      "JazzJazzJazzJazzJazzJazzJazzJazzJazzJazzJazzJazzJazzJazzJazzJazzJazzJazzJazzJazzJazzJazzJazzJazzJazzJazzJazzJazzJazzJazzJazzJazzJazzJazzJazzJazzJazzJazzJazzJazzJazzJazzJazzJazzJazzJazzJazzJazzJazzJazzJazzJazzJazzJazzJazzJazzJazzJazzJazzJazzJazzJazzJazzJazzJazzJazzJazzJazzJazzJazzJazzJazzJazzJazzJazzJazzJazzJazzJazzJazzJazzJazzJazzJazzJazzJazzJazzJazzJazzJazzJazzJazzJazzJazzJazzJazzJazzJazzJazzJazz\n"
     ]
    }
   ],
   "source": [
    "print(N*100)"
   ]
  }
 ],
 "metadata": {
  "kernelspec": {
   "display_name": "Python 3 (ipykernel)",
   "language": "python",
   "name": "python3"
  },
  "language_info": {
   "codemirror_mode": {
    "name": "ipython",
    "version": 3
   },
   "file_extension": ".py",
   "mimetype": "text/x-python",
   "name": "python",
   "nbconvert_exporter": "python",
   "pygments_lexer": "ipython3",
   "version": "3.9.13"
  }
 },
 "nbformat": 4,
 "nbformat_minor": 5
}
